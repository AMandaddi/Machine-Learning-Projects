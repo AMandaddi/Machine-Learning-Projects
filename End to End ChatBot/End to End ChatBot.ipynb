{
 "cells": [
  {
   "cell_type": "markdown",
   "id": "351e60de",
   "metadata": {},
   "source": [
    "End to End Chatbot "
   ]
  },
  {
   "cell_type": "code",
   "execution_count": 1,
   "id": "02097686",
   "metadata": {},
   "outputs": [],
   "source": [
    "# Import necessary libraries\n",
    "import nltk\n",
    "import numpy as np\n",
    "import json\n",
    "import random\n",
    "from sklearn.feature_extraction.text import CountVectorizer\n",
    "from sklearn.linear_model import LogisticRegression"
   ]
  },
  {
   "cell_type": "markdown",
   "id": "f6743f3b",
   "metadata": {},
   "source": [
    "Define intents data directly in the notebook"
   ]
  },
  {
   "cell_type": "code",
   "execution_count": 2,
   "id": "65385382",
   "metadata": {},
   "outputs": [],
   "source": [
    "intents = {\n",
    "    \"intents\": [\n",
    "        {\n",
    "            \"tag\": \"greeting\",\n",
    "            \"patterns\": [\"Hi\", \"Hello\", \"Hey\", \"How are you?\", \"What's up?\", \"How's it going?\"],\n",
    "            \"responses\": [\"Hello!\", \"Hi there!\", \"Hey! How can I help you?\", \"I'm doing great, thanks for asking! How about you?\"]\n",
    "        },\n",
    "        {\n",
    "            \"tag\": \"goodbye\",\n",
    "            \"patterns\": [\"Bye\", \"Goodbye\", \"See you later\", \"Talk to you later\", \"Take care\"],\n",
    "            \"responses\": [\"Goodbye! Have a great day!\", \"See you later!\", \"Take care!\", \"Talk to you soon!\"]\n",
    "        },\n",
    "        {\n",
    "            \"tag\": \"thanks\",\n",
    "            \"patterns\": [\"Thanks\", \"Thank you\", \"Appreciate it\", \"Thanks a lot\", \"Thanks so much\"],\n",
    "            \"responses\": [\"You're welcome!\", \"No problem!\", \"Glad I could help!\", \"Anytime!\"]\n",
    "        },\n",
    "        {\n",
    "            \"tag\": \"about\",\n",
    "            \"patterns\": [\"Tell me about yourself\", \"Who are you?\", \"What is your purpose?\", \"What can you do?\"],\n",
    "            \"responses\": [\"I'm an advanced chatbot built using Python!\", \"I am here to assist you with information and conversation.\", \"I can answer your questions and have casual conversations.\"]\n",
    "        },\n",
    "        {\n",
    "            \"tag\": \"weather\",\n",
    "            \"patterns\": [\"What's the weather like?\", \"Tell me the weather\", \"Is it raining?\", \"How's the weather today?\"],\n",
    "            \"responses\": [\"I'm not sure about the current weather, but you can check a weather app or website for the latest updates.\", \"I recommend checking your local weather app for the most accurate details.\"]\n",
    "        },\n",
    "        {\n",
    "            \"tag\": \"joke\",\n",
    "            \"patterns\": [\"Tell me a joke\", \"Make me laugh\", \"I need a joke\", \"Tell me something funny\"],\n",
    "            \"responses\": [\"Why don't skeletons fight each other? They don't have the guts!\", \"Why did the scarecrow win an award? Because he was outstanding in his field!\", \"I told my computer I needed a break, and now it won't stop sending me Kit-Kats!\"]\n",
    "        },\n",
    "        {\n",
    "            \"tag\": \"thankful\",\n",
    "            \"patterns\": [\"I am grateful\", \"Thank you so much\", \"I appreciate your help\", \"Thanks for being there\"],\n",
    "            \"responses\": [\"You're very welcome! I'm glad I could help.\", \"I appreciate your kind words.\", \"It's my pleasure to assist you!\"]\n",
    "        },\n",
    "        {\n",
    "            \"tag\": \"help\",\n",
    "            \"patterns\": [\"Can you help me?\", \"I need help\", \"Help me out\", \"Can you assist me?\", \"I need assistance\"],\n",
    "            \"responses\": [\"Of course! What do you need help with?\", \"I'm here to help. Please let me know what you need.\", \"How can I assist you today?\"]\n",
    "        },\n",
    "        {\n",
    "            \"tag\": \"news\",\n",
    "            \"patterns\": [\"What's the latest news?\", \"Tell me the news\", \"What's happening?\", \"Any news updates?\"],\n",
    "            \"responses\": [\"I don't have access to live news right now, but I suggest checking a news app or website for the latest headlines.\", \"For the most recent updates, please check a trusted news source.\"]\n",
    "        },\n",
    "        {\n",
    "            \"tag\": \"advice\",\n",
    "            \"patterns\": [\"Give me some advice\", \"I need advice\", \"Can you help me make a decision?\", \"What should I do?\"],\n",
    "            \"responses\": [\"Believe in yourself, and take one step at a time!\", \"Trust your instincts, they are usually right.\", \"Don't be afraid to make mistakes, they're part of learning and growing.\"]\n",
    "        }\n",
    "    ]\n",
    "}"
   ]
  },
  {
   "cell_type": "raw",
   "id": "5dd2b004",
   "metadata": {},
   "source": [
    "Prepare the training data"
   ]
  },
  {
   "cell_type": "code",
   "execution_count": 3,
   "id": "54ac1533",
   "metadata": {},
   "outputs": [],
   "source": [
    "corpus = []\n",
    "labels = []\n",
    "for intent in intents[\"intents\"]:\n",
    "    for pattern in intent[\"patterns\"]:\n",
    "        corpus.append(pattern)\n",
    "        labels.append(intent[\"tag\"])"
   ]
  },
  {
   "cell_type": "markdown",
   "id": "30733a4b",
   "metadata": {},
   "source": [
    "Vectorize the data"
   ]
  },
  {
   "cell_type": "code",
   "execution_count": 4,
   "id": "eaa45e45",
   "metadata": {},
   "outputs": [],
   "source": [
    "vectorizer = CountVectorizer()\n",
    "X = vectorizer.fit_transform(corpus)\n",
    "y = np.array(labels)"
   ]
  },
  {
   "cell_type": "markdown",
   "id": "06500255",
   "metadata": {},
   "source": [
    "Train a basic logistic regression model"
   ]
  },
  {
   "cell_type": "code",
   "execution_count": 5,
   "id": "d5d4b985",
   "metadata": {},
   "outputs": [
    {
     "data": {
      "text/html": [
       "<style>#sk-container-id-1 {color: black;background-color: white;}#sk-container-id-1 pre{padding: 0;}#sk-container-id-1 div.sk-toggleable {background-color: white;}#sk-container-id-1 label.sk-toggleable__label {cursor: pointer;display: block;width: 100%;margin-bottom: 0;padding: 0.3em;box-sizing: border-box;text-align: center;}#sk-container-id-1 label.sk-toggleable__label-arrow:before {content: \"▸\";float: left;margin-right: 0.25em;color: #696969;}#sk-container-id-1 label.sk-toggleable__label-arrow:hover:before {color: black;}#sk-container-id-1 div.sk-estimator:hover label.sk-toggleable__label-arrow:before {color: black;}#sk-container-id-1 div.sk-toggleable__content {max-height: 0;max-width: 0;overflow: hidden;text-align: left;background-color: #f0f8ff;}#sk-container-id-1 div.sk-toggleable__content pre {margin: 0.2em;color: black;border-radius: 0.25em;background-color: #f0f8ff;}#sk-container-id-1 input.sk-toggleable__control:checked~div.sk-toggleable__content {max-height: 200px;max-width: 100%;overflow: auto;}#sk-container-id-1 input.sk-toggleable__control:checked~label.sk-toggleable__label-arrow:before {content: \"▾\";}#sk-container-id-1 div.sk-estimator input.sk-toggleable__control:checked~label.sk-toggleable__label {background-color: #d4ebff;}#sk-container-id-1 div.sk-label input.sk-toggleable__control:checked~label.sk-toggleable__label {background-color: #d4ebff;}#sk-container-id-1 input.sk-hidden--visually {border: 0;clip: rect(1px 1px 1px 1px);clip: rect(1px, 1px, 1px, 1px);height: 1px;margin: -1px;overflow: hidden;padding: 0;position: absolute;width: 1px;}#sk-container-id-1 div.sk-estimator {font-family: monospace;background-color: #f0f8ff;border: 1px dotted black;border-radius: 0.25em;box-sizing: border-box;margin-bottom: 0.5em;}#sk-container-id-1 div.sk-estimator:hover {background-color: #d4ebff;}#sk-container-id-1 div.sk-parallel-item::after {content: \"\";width: 100%;border-bottom: 1px solid gray;flex-grow: 1;}#sk-container-id-1 div.sk-label:hover label.sk-toggleable__label {background-color: #d4ebff;}#sk-container-id-1 div.sk-serial::before {content: \"\";position: absolute;border-left: 1px solid gray;box-sizing: border-box;top: 0;bottom: 0;left: 50%;z-index: 0;}#sk-container-id-1 div.sk-serial {display: flex;flex-direction: column;align-items: center;background-color: white;padding-right: 0.2em;padding-left: 0.2em;position: relative;}#sk-container-id-1 div.sk-item {position: relative;z-index: 1;}#sk-container-id-1 div.sk-parallel {display: flex;align-items: stretch;justify-content: center;background-color: white;position: relative;}#sk-container-id-1 div.sk-item::before, #sk-container-id-1 div.sk-parallel-item::before {content: \"\";position: absolute;border-left: 1px solid gray;box-sizing: border-box;top: 0;bottom: 0;left: 50%;z-index: -1;}#sk-container-id-1 div.sk-parallel-item {display: flex;flex-direction: column;z-index: 1;position: relative;background-color: white;}#sk-container-id-1 div.sk-parallel-item:first-child::after {align-self: flex-end;width: 50%;}#sk-container-id-1 div.sk-parallel-item:last-child::after {align-self: flex-start;width: 50%;}#sk-container-id-1 div.sk-parallel-item:only-child::after {width: 0;}#sk-container-id-1 div.sk-dashed-wrapped {border: 1px dashed gray;margin: 0 0.4em 0.5em 0.4em;box-sizing: border-box;padding-bottom: 0.4em;background-color: white;}#sk-container-id-1 div.sk-label label {font-family: monospace;font-weight: bold;display: inline-block;line-height: 1.2em;}#sk-container-id-1 div.sk-label-container {text-align: center;}#sk-container-id-1 div.sk-container {/* jupyter's `normalize.less` sets `[hidden] { display: none; }` but bootstrap.min.css set `[hidden] { display: none !important; }` so we also need the `!important` here to be able to override the default hidden behavior on the sphinx rendered scikit-learn.org. See: https://github.com/scikit-learn/scikit-learn/issues/21755 */display: inline-block !important;position: relative;}#sk-container-id-1 div.sk-text-repr-fallback {display: none;}</style><div id=\"sk-container-id-1\" class=\"sk-top-container\"><div class=\"sk-text-repr-fallback\"><pre>LogisticRegression()</pre><b>In a Jupyter environment, please rerun this cell to show the HTML representation or trust the notebook. <br />On GitHub, the HTML representation is unable to render, please try loading this page with nbviewer.org.</b></div><div class=\"sk-container\" hidden><div class=\"sk-item\"><div class=\"sk-estimator sk-toggleable\"><input class=\"sk-toggleable__control sk-hidden--visually\" id=\"sk-estimator-id-1\" type=\"checkbox\" checked><label for=\"sk-estimator-id-1\" class=\"sk-toggleable__label sk-toggleable__label-arrow\">LogisticRegression</label><div class=\"sk-toggleable__content\"><pre>LogisticRegression()</pre></div></div></div></div></div>"
      ],
      "text/plain": [
       "LogisticRegression()"
      ]
     },
     "execution_count": 5,
     "metadata": {},
     "output_type": "execute_result"
    }
   ],
   "source": [
    "model = LogisticRegression()\n",
    "model.fit(X, y)"
   ]
  },
  {
   "cell_type": "markdown",
   "id": "7c60a032",
   "metadata": {},
   "source": [
    "Chatbot response function"
   ]
  },
  {
   "cell_type": "code",
   "execution_count": 8,
   "id": "4d1343d1",
   "metadata": {},
   "outputs": [],
   "source": [
    "def chatbot_response(user_input):\n",
    "    user_input_vector = vectorizer.transform([user_input])\n",
    "    predicted_label = model.predict(user_input_vector)[0]\n",
    "    \n",
    "# Fetch a random response for the predicted intent\n",
    "    for intent in intents[\"intents\"]:\n",
    "        if intent[\"tag\"] == predicted_label:\n",
    "            return random.choice(intent[\"responses\"])"
   ]
  },
  {
   "cell_type": "markdown",
   "id": "22f11b9c",
   "metadata": {},
   "source": [
    "Main chat loop"
   ]
  },
  {
   "cell_type": "code",
   "execution_count": null,
   "id": "2fba3874",
   "metadata": {},
   "outputs": [
    {
     "name": "stdout",
     "output_type": "stream",
     "text": [
      "Hello! I am an advanced chatbot. Type 'quit' to exit.\n",
      "You: Hi\n",
      "Chatbot: Hey! How can I help you?\n",
      "You: Tell me a joke\n",
      "Chatbot: Why did the scarecrow win an award? Because he was outstanding in his field!\n",
      "You: How are you?\n",
      "Chatbot: Hey! How can I help you?\n",
      "You: Thank you\n",
      "Chatbot: Glad I could help!\n"
     ]
    }
   ],
   "source": [
    "print(\"Hello! I am an advanced chatbot. Type 'quit' to exit.\")\n",
    "\n",
    "while True:\n",
    "    user_input = input(\"You: \")\n",
    "    if user_input.lower() == 'quit':\n",
    "        print(\"Chatbot: Goodbye! Have a great day!\")\n",
    "        break\n",
    "    response = chatbot_response(user_input)\n",
    "    print(\"Chatbot:\", response)"
   ]
  },
  {
   "cell_type": "code",
   "execution_count": null,
   "id": "e21ea2bb",
   "metadata": {},
   "outputs": [],
   "source": []
  }
 ],
 "metadata": {
  "kernelspec": {
   "display_name": "Python 3 (ipykernel)",
   "language": "python",
   "name": "python3"
  },
  "language_info": {
   "codemirror_mode": {
    "name": "ipython",
    "version": 3
   },
   "file_extension": ".py",
   "mimetype": "text/x-python",
   "name": "python",
   "nbconvert_exporter": "python",
   "pygments_lexer": "ipython3",
   "version": "3.11.7"
  }
 },
 "nbformat": 4,
 "nbformat_minor": 5
}
